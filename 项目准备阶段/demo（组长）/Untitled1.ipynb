{
 "cells": [
  {
   "cell_type": "code",
   "execution_count": 1,
   "id": "20a84c55",
   "metadata": {},
   "outputs": [
    {
     "name": "stdout",
     "output_type": "stream",
     "text": [
      "XML result saved as cn\\common_voice_zh-CN_18524189.xml\n",
      "### closed ###\n",
      "XML result saved as cn\\common_voice_zh-CN_18531536.xml\n",
      "### closed ###\n",
      "XML result saved as cn\\common_voice_zh-CN_18531537.xml\n",
      "### closed ###\n",
      "XML result saved as cn\\common_voice_zh-CN_18531538.xml\n",
      "### closed ###\n",
      "XML result saved as cn\\common_voice_zh-CN_18531539.xml\n",
      "### closed ###\n",
      "XML result saved as cn\\common_voice_zh-CN_18531540.xml\n",
      "### closed ###\n",
      "XML result saved as cn\\common_voice_zh-CN_18531541.xml\n",
      "### closed ###\n",
      "XML result saved as cn\\common_voice_zh-CN_18531542.xml\n",
      "### closed ###\n",
      "XML result saved as cn\\common_voice_zh-CN_18531543.xml\n",
      "### closed ###\n",
      "XML result saved as cn\\common_voice_zh-CN_18531544.xml\n",
      "### closed ###\n"
     ]
    }
   ],
   "source": [
    "import os\n",
    "import xml.etree.ElementTree as ET\n",
    "import pandas as pd\n",
    "\n",
    "# 遍历 cn 目录下的所有文件\n",
    "for filename in os.listdir(\"cn\"):\n",
    "    if filename.endswith(\".xml\"):\n",
    "        # 创建空的DataFrame来存储当前文件的数据\n",
    "        all_data = []\n",
    "\n",
    "        # 解析 XML 文件\n",
    "        tree = ET.parse(os.path.join(\"cn\", filename))\n",
    "        root = tree.getroot()\n",
    "\n",
    "        # 遍历 XML 树\n",
    "        for read_sentence in root.findall('.//read_sentence'):\n",
    "            for word in read_sentence.findall('.//word'):\n",
    "                sylls = word.findall('.//syll')\n",
    "                for syll in sylls:\n",
    "                    syll_data = {\n",
    "                        'filename': filename,\n",
    "                        'content': syll.get('content'),\n",
    "                        'beg_pos': syll.get('beg_pos'),\n",
    "                        'end_pos': syll.get('end_pos'),\n",
    "                        'symbol': syll.get('symbol'),\n",
    "                        'time_len': syll.get('time_len'),\n",
    "                        'rec_node_type': syll.get('rec_node_type')\n",
    "                    }\n",
    "                    all_data.append(syll_data)\n",
    "                    phones = syll.findall('.//phone')\n",
    "                    for phone in phones:\n",
    "                        phone_data = {\n",
    "                            'filename': filename,\n",
    "                            'content': phone.get('content'),\n",
    "                            'beg_pos': phone.get('beg_pos'),\n",
    "                            'end_pos': phone.get('end_pos'),\n",
    "                            'symbol': phone.get('symbol'),\n",
    "                            'time_len': phone.get('time_len'),\n",
    "                            'rec_node_type': phone.get('rec_node_type'),\n",
    "                            'dp_message': phone.get('dp_message'),\n",
    "                            'is_yun': phone.get('is_yun'),\n",
    "                            'perr_msg': phone.get('perr_msg'),\n",
    "                            'perr_level_msg': phone.get('perr_level_msg')\n",
    "                        }\n",
    "                        all_data.append(phone_data)\n",
    "            break;\n",
    "\n",
    "        # 将当前文件的数据存储到DataFrame中\n",
    "        df = pd.DataFrame(all_data)\n",
    "\n",
    "        # 将DataFrame保存为文本文件，文件名与XML文件一致\n",
    "        df.to_csv(os.path.join(\"cn\", f\"{os.path.splitext(filename)[0]}.txt\"), index=False, sep='\\t')\n",
    "        # 将DataFrame保存为Excel文件，文件名与XML文件一致\n",
    "        df.to_excel(os.path.join(\"cn\", f\"{os.path.splitext(filename)[0]}.xlsx\"), index=False)\n"
   ]
  },
  {
   "cell_type": "code",
   "execution_count": null,
   "id": "b9589edc",
   "metadata": {},
   "outputs": [],
   "source": []
  }
 ],
 "metadata": {
  "kernelspec": {
   "display_name": "Python 3 (ipykernel)",
   "language": "python",
   "name": "python3"
  },
  "language_info": {
   "codemirror_mode": {
    "name": "ipython",
    "version": 3
   },
   "file_extension": ".py",
   "mimetype": "text/x-python",
   "name": "python",
   "nbconvert_exporter": "python",
   "pygments_lexer": "ipython3",
   "version": "3.11.5"
  }
 },
 "nbformat": 4,
 "nbformat_minor": 5
}
