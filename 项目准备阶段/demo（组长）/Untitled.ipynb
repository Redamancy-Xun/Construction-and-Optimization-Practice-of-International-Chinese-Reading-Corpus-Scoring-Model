{
 "cells": [
  {
   "cell_type": "code",
   "execution_count": 1,
   "id": "0a8ccbff",
   "metadata": {},
   "outputs": [
    {
     "ename": "ModuleNotFoundError",
     "evalue": "No module named 'librosa'",
     "output_type": "error",
     "traceback": [
      "\u001b[1;31m---------------------------------------------------------------------------\u001b[0m",
      "\u001b[1;31mModuleNotFoundError\u001b[0m                       Traceback (most recent call last)",
      "Cell \u001b[1;32mIn[1], line 2\u001b[0m\n\u001b[0;32m      1\u001b[0m \u001b[38;5;28;01mimport\u001b[39;00m \u001b[38;5;21;01mos\u001b[39;00m\n\u001b[1;32m----> 2\u001b[0m \u001b[38;5;28;01mimport\u001b[39;00m \u001b[38;5;21;01mlibrosa\u001b[39;00m\n\u001b[0;32m      3\u001b[0m \u001b[38;5;28;01mimport\u001b[39;00m \u001b[38;5;21;01msoundfile\u001b[39;00m \u001b[38;5;28;01mas\u001b[39;00m \u001b[38;5;21;01msf\u001b[39;00m\n\u001b[0;32m      4\u001b[0m \u001b[38;5;28;01mimport\u001b[39;00m \u001b[38;5;21;01marray\u001b[39;00m\n",
      "\u001b[1;31mModuleNotFoundError\u001b[0m: No module named 'librosa'"
     ]
    }
   ],
   "source": [
    "import os\n",
    "import librosa\n",
    "import soundfile as sf\n",
    "import array\n",
    "\n",
    "# 定义子目录名\n",
    "subdirectory = 'cn'\n",
    "\n",
    "# 检查子目录是否存在，如果不存在则创建\n",
    "if not os.path.exists(subdirectory):\n",
    "    os.makedirs(subdirectory)\n",
    "\n",
    "# 遍历文件夹中的所有音频文件 (.wav 和 .mp3)\n",
    "for filename in os.listdir(subdirectory):\n",
    "    if filename.endswith(('.wav', '.mp3')):  # 检查文件扩展名\n",
    "        # 构建完整的文件路径\n",
    "        file_path = os.path.join(subdirectory, filename)\n",
    "        # 读取音频文件\n",
    "        y, sr = librosa.load(file_path, sr=None, mono=True)  # 自动获取原始采样率\n",
    "        y_16 = librosa.resample(y, orig_sr=sr, target_sr=16000)\n",
    "\n",
    "        # 检查是否为.mp3文件，如果是则保存为.wav格式\n",
    "        if filename.endswith('.mp3'):\n",
    "            # 替换扩展名为.wav\n",
    "            wav_file_path = os.path.splitext(file_path)[0] + '.wav'\n",
    "            # 写入.wav文件\n",
    "            sf.write(wav_file_path, y_16, 16000, format='WAV')\n",
    "            # 删除原.mp3文件\n",
    "            os.remove(file_path)\n",
    "            # 更新file_path为新的.wav文件路径，以便进一步处理\n",
    "            file_path = wav_file_path\n",
    "\n",
    "        # 转换为PCM格式\n",
    "        y_pcm = array.array('h', (int(sample * 32767) for sample in y_16))\n",
    "        # 构建输出文件路径，使用相同的文件名但扩展名为.pcm\n",
    "        output_file = os.path.splitext(file_path)[0] + '.pcm'\n",
    "\n",
    "        # 将PCM格式的音频数据写入文件\n",
    "        with open(output_file, 'wb') as pcm_file:\n",
    "            y_pcm.tofile(pcm_file)\n",
    "\n",
    "\n",
    "print(\"所有文件已处理完毕\")\n"
   ]
  },
  {
   "cell_type": "code",
   "execution_count": null,
   "id": "96e2cb76",
   "metadata": {},
   "outputs": [],
   "source": []
  }
 ],
 "metadata": {
  "kernelspec": {
   "display_name": "Python 3 (ipykernel)",
   "language": "python",
   "name": "python3"
  },
  "language_info": {
   "codemirror_mode": {
    "name": "ipython",
    "version": 3
   },
   "file_extension": ".py",
   "mimetype": "text/x-python",
   "name": "python",
   "nbconvert_exporter": "python",
   "pygments_lexer": "ipython3",
   "version": "3.11.5"
  }
 },
 "nbformat": 4,
 "nbformat_minor": 5
}
